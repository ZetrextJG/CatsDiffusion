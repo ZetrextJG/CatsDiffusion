{
 "cells": [
  {
   "cell_type": "code",
   "execution_count": 1,
   "id": "d3b79ea9",
   "metadata": {},
   "outputs": [],
   "source": [
    "from PIL import Image, UnidentifiedImageError\n",
    "from pathlib import Path\n",
    "import numpy as np\n",
    "import torch"
   ]
  },
  {
   "cell_type": "code",
   "execution_count": 2,
   "id": "6807720c",
   "metadata": {},
   "outputs": [],
   "source": [
    "root_dir = Path(\".\").resolve().parent / \"data\" / \"cats\" / \"Data\"\n",
    "assert root_dir.exists(), f\"Root directory {root_dir} does not exist\""
   ]
  },
  {
   "cell_type": "code",
   "execution_count": 3,
   "id": "bcb4bdc9",
   "metadata": {},
   "outputs": [],
   "source": [
    "images = []\n",
    "shapes = []\n",
    "\n",
    "for file in root_dir.rglob(\"*.png\"):\n",
    "    try:\n",
    "        img = Image.open(file).convert(\"RGB\")\n",
    "        img.verify()  # Verify that it is an image\n",
    "        data = np.array(img)\n",
    "        assert data.ndim == 3, f\"Image {file} is not RGB image\"\n",
    "        assert data.shape[2] == 3, f\"Image {file} does not have 3 channels\"\n",
    "\n",
    "        images.append(data)\n",
    "        shapes.append(data.shape)\n",
    "\n",
    "    except (UnidentifiedImageError, OSError) as e:\n",
    "        print(f\"Invalid image {file}: {e}\")\n",
    "        file.unlink()  # Remove the invalid file\n",
    "    except Exception as e:\n",
    "        print(f\"Error processing {file}: {e}\")"
   ]
  },
  {
   "cell_type": "code",
   "execution_count": 4,
   "id": "a5312780",
   "metadata": {},
   "outputs": [
    {
     "data": {
      "text/plain": [
       "(array([], dtype=int64), array([], dtype=int64))"
      ]
     },
     "execution_count": 4,
     "metadata": {},
     "output_type": "execute_result"
    }
   ],
   "source": [
    "np.where(~(np.array(shapes) == (64, 64, 3)))"
   ]
  },
  {
   "cell_type": "code",
   "execution_count": 5,
   "id": "76fac97c",
   "metadata": {},
   "outputs": [],
   "source": [
    "images_ds = np.stack(images)\n",
    "del images\n",
    "\n",
    "images_ds = torch.from_numpy(images_ds).permute(0, 3, 1, 2)\n",
    "torch.save(images_ds, root_dir.parent / \"cats_raw.pt\")"
   ]
  },
  {
   "cell_type": "code",
   "execution_count": 6,
   "id": "38c1d44d",
   "metadata": {},
   "outputs": [],
   "source": [
    "IMAGENET_MEAN = torch.tensor([0.485, 0.456, 0.406], dtype=torch.float32)\n",
    "IMAGENET_STD = torch.tensor([0.229, 0.224, 0.225], dtype=torch.float32)"
   ]
  },
  {
   "cell_type": "code",
   "execution_count": null,
   "id": "3dd55ef6",
   "metadata": {},
   "outputs": [],
   "source": [
    "# images_ds = torch.load(root_dir.parent / \"cats_raw.pt\")\n",
    "# images_ds = images_ds.to(torch.float32) / 255.0\n",
    "# images_ds = (images_ds - IMAGENET_MEAN.reshape(1, 3, 1, 1)) / IMAGENET_STD.reshape(1, 3, 1, 1)\n",
    "# torch.save(images_ds, root_dir.parent / \"cats_transformed.pt\")"
   ]
  }
 ],
 "metadata": {
  "kernelspec": {
   "display_name": "torchds",
   "language": "python",
   "name": "python3"
  },
  "language_info": {
   "codemirror_mode": {
    "name": "ipython",
    "version": 3
   },
   "file_extension": ".py",
   "mimetype": "text/x-python",
   "name": "python",
   "nbconvert_exporter": "python",
   "pygments_lexer": "ipython3",
   "version": "3.10.16"
  }
 },
 "nbformat": 4,
 "nbformat_minor": 5
}
